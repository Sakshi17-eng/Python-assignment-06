{
  "nbformat": 4,
  "nbformat_minor": 0,
  "metadata": {
    "colab": {
      "provenance": []
    },
    "kernelspec": {
      "name": "python3",
      "display_name": "Python 3"
    },
    "language_info": {
      "name": "python"
    }
  },
  "cells": [
    {
      "cell_type": "markdown",
      "source": [
        "# **THEREOTICAL QUESTIONS**"
      ],
      "metadata": {
        "id": "PaJxjEE3rhlm"
      }
    },
    {
      "cell_type": "markdown",
      "source": [
        "### 01.What is Object-Oriented Programming (OOP)?\n",
        "Object-Oriented Programming (OOP) is a paradigm that structures software around \"objects,\" which bundle data and functions. Key concepts include classes , encapsulation (hiding internal data), inheritance (creating new classes from existing ones), and polymorphism (objects responding differently to the same method). OOP promotes modularity, reusability, and maintainability in software development by modeling real-world entities and their interactions."
      ],
      "metadata": {
        "id": "qFR50YSCr-Ad"
      }
    },
    {
      "cell_type": "markdown",
      "source": [
        "### 02. What is a class in OOP?\n",
        "A Class is a blueprint or template that defines the structure and behavior of objects. It specifies the attributes (data) that objects of the class will have and the methods (functions) that they can perform. Think of it like a cookie cutter – the class is the cutter, and the objects are the cookies created using that cutter."
      ],
      "metadata": {
        "id": "6erwbZBYsrn6"
      }
    },
    {
      "cell_type": "markdown",
      "source": [
        "##03. What is an object in OOP?\n",
        "\n",
        "An object in OOP is a specific instance of a class. It's a concrete entity that has the attributes and behaviors defined by its class. Using our previous analogy, if a class is a \"Car\" blueprint, then a specific car you see on the street – with a particular color, model, and mileage – is an object of the \"Car\" class"
      ],
      "metadata": {
        "id": "vf0nAOqZtAbp"
      }
    },
    {
      "cell_type": "markdown",
      "source": [
        "### 04. What is the difference between abstraction and encapsulation?\n",
        "\n",
        "Abstraction focuses on what an object does, exposing only the essential information and hiding complex implementation details. Encapsulation focuses on how an object manages its internal data, bundling attributes and methods together and controlling access to the data to protect its integrity. Think of a TV remote (abstraction – you use buttons without knowing the internal circuitry) versus the TV's internal components being sealed in a case (encapsulation – protecting the delicate parts)."
      ],
      "metadata": {
        "id": "sty7Wxp6tYKm"
      }
    },
    {
      "cell_type": "markdown",
      "source": [
        "### 05. What are dunder methods in Python?\n",
        "\n",
        "Dunder methods (short for \"double underscore\" methods) in Python are special methods that have double underscores both before and after their names (e.g., __init__, __str__). These methods are not typically called directly by the programmer but are invoked automatically by Python in response to certain operations or syntax. They allow you to define how your objects behave with built-in Python functionalities like addition, string representation, and iteration."
      ],
      "metadata": {
        "id": "E270BUSttgmL"
      }
    },
    {
      "cell_type": "markdown",
      "source": [
        "### 06. Explain the concept of inheritance in OOP.\n",
        "\n",
        "Inheritance is a mechanism in OOP where a new class (the derived or child class) can inherit properties and behaviors (attributes and methods) from an existing class (the base or parent class). This promotes code reusability, as the derived class can use the functionalities of the base class without rewriting them. It also allows you to create a hierarchy of classes, representing \"is-a\" relationships (e.g., a Dog is a Animal)."
      ],
      "metadata": {
        "id": "Ii53coPfto_F"
      }
    },
    {
      "cell_type": "markdown",
      "source": [
        "### 07. What is polymorphism in OOP?\n",
        "\n",
        "Polymorphism, meaning \"many forms,\" allows objects of different classes to respond to the same method call in their own specific way. This enables you to write more flexible and generic code. For example, if you have a speak() method, different animal objects (like Dog and Cat) will implement this method differently, producing their respective sounds (barking and meowing)"
      ],
      "metadata": {
        "id": "OVlPbyXyuLKv"
      }
    },
    {
      "cell_type": "markdown",
      "source": [
        "###08. How is encapsulation achieved in Python?\n",
        "\n",
        "While Python doesn't have strict access modifiers like private in some other languages, encapsulation is achieved through convention and the use of name mangling. Attributes and methods prefixed with a single underscore (_) are conventionally treated as protected, indicating they shouldn't be accessed directly from outside the class. Attributes and methods prefixed with a double underscore (__) undergo name mangling, making them harder to access directly from outside the class, though not entirely impossible. This encourages better code organization and prevents accidental modification of internal state."
      ],
      "metadata": {
        "id": "Nt63qV9GuohM"
      }
    },
    {
      "cell_type": "markdown",
      "source": [
        "###09. What is a constructor in Python?\n",
        "\n",
        "In Python, the constructor is a special method called __init__(self). It's automatically called when an object of a class is created. The primary purpose of the constructor is to initialize the object's attributes (data). The self parameter refers to the instance of the object being created."
      ],
      "metadata": {
        "id": "srjP3u8dvGY7"
      }
    },
    {
      "cell_type": "markdown",
      "source": [
        "### 10. What are class and static methods in Python?\n",
        "\n",
        "- Class Methods: These methods are bound to the class and not the instance of the class. They receive the class itself as the first argument, conventionally named cls. You define them using the @classmethod decorator. Class methods can access and modify the class state. They are often used as factory methods to create instances of the class in a controlled way.\n",
        "\n",
        "- Static Methods: These methods are also bound to the class but do not receive either the instance (self) or the class (cls) as their first argument. They are essentially regular functions that are logically grouped within the class. You define them using the @staticmethod decorator. Static methods cannot access or modify the class or instance state directly."
      ],
      "metadata": {
        "id": "vM9Hn78KvRcp"
      }
    },
    {
      "cell_type": "markdown",
      "source": [
        "###11. What is method overloading in Python?\n",
        "\n",
        "Method overloading in the traditional sense (having multiple methods in the same class with the same name but different parameter lists) is not directly supported in Python like it is in some other languages (e.g., Java, C++). In Python, if you define multiple methods with the same name in a class, the last definition will override the earlier ones."
      ],
      "metadata": {
        "id": "OSwFHCNuvd2f"
      }
    },
    {
      "cell_type": "markdown",
      "source": [
        "### 12. What is method overriding in OOP?\n",
        "\n",
        "Method overriding occurs when a subclass (derived class) provides a specific implementation for a method that is already defined in its superclass (base class). 1  When you call this overridden method on an object of the subclass, the subclass's version of the method is executed, not the superclass's version. This allows a subclass to customize or extend the behavior inherited from its parent."
      ],
      "metadata": {
        "id": "WKv53nzkwHa9"
      }
    },
    {
      "cell_type": "markdown",
      "source": [
        "### 13. What is a property decorator in Python?\n",
        "\n",
        "Property Decorator: The @property decorator in Python is a built-in decorator that allows you to define methods that can be accessed like attributes. It's a way to implement controlled access to instance attributes. You can also define setter and deleter decorators to control how the attribute's value is set or deleted, respectively. This helps in encapsulating the attribute's access and modification logic.\n",
        "\n"
      ],
      "metadata": {
        "id": "yOac3bKOwUMm"
      }
    },
    {
      "cell_type": "markdown",
      "source": [
        "###14.Why is polymorphism important in OOP?\n",
        " Polymorphism is crucial because it allows you to write more flexible and reusable code. It enables you to treat objects of different classes in a uniform way if they share a common interface (e.g., through inheritance or duck typing). This reduces coupling between different parts of your code and makes it easier to extend and maintain."
      ],
      "metadata": {
        "id": "qwJLLVE-x5DC"
      }
    },
    {
      "cell_type": "markdown",
      "source": [
        "###15.What is an abstract class in Python?\n",
        "\n",
        "An abstract class in Python is a class that cannot be instantiated directly. It serves as a blueprint for other classes. Abstract classes often contain one or more abstract methods, which are methods declared but not implemented in the abstract class. Subclasses of an abstract class are then required to provide concrete implementations for these abstract methods. You create abstract classes in Python using the abc (Abstract Base Classes) module."
      ],
      "metadata": {
        "id": "dU40vJ63wmxJ"
      }
    },
    {
      "cell_type": "markdown",
      "source": [
        "### 16.What are the advantages of OOP?\n",
        "\n",
        "The advantages of OOP include:\n",
        "\n",
        "- Modularity: Breaking down complex problems into smaller, self-contained objects.\n",
        "- Reusability: Inheritance allows code reuse, reducing development effort.\n",
        "- Maintainability: Encapsulation limits the impact of changes, making code easier to update.\n",
        "- Scalability: New features can be added more easily without affecting existing code significantly."
      ],
      "metadata": {
        "id": "Q4FYLTiTw--3"
      }
    },
    {
      "cell_type": "markdown",
      "source": [
        "###17.What is the difference between a class variable and an instance variable?\n",
        "\n",
        "- Class Variable: A class variable is defined within the class but outside of any instance methods (including __init__). It is shared by all instances (objects) of that class. If you modify a class variable, the change will be reflected in all instances of the class.\n",
        "\n",
        "- Instance Variable: An instance variable is defined within instance methods (typically in the __init__ method) and is specific to each object of the class. Each object has its own copy of the instance variables. Changes to an instance variable in one object do not affect the instance variables of other objects."
      ],
      "metadata": {
        "id": "juqmYhATxHAc"
      }
    },
    {
      "cell_type": "markdown",
      "source": [
        "###18.What is multiple inheritance in Python?\n",
        "\n",
        "Multiple inheritance is a feature in Python (and some other OOP languages) where a class can inherit attributes and methods from more than one parent class. This allows a subclass to combine functionalities from different base classes. However, multiple inheritance can also lead to complexities like the \"diamond problem\" (where a subclass inherits from two classes that both inherit from a common grandparent class, leading to ambiguity about which grandparent's method to inherit). Python resolves this using a method resolution order (MRO), which determines the order in which base classes are searched for a method"
      ],
      "metadata": {
        "id": "xC1B6dB3xaNr"
      }
    },
    {
      "cell_type": "markdown",
      "source": [
        "###19.Explain the purpose of __str__ and __repr__ methods in Python.\n",
        "\n",
        "Both __str__ and __repr__ are special methods used to get string representations of objects:\n",
        "\n",
        "__str__(self): This method is intended to provide a human-readable, informal string representation of an object. It's what you see when you use the str() function on an object or when you print() an object. The goal is to be easily understandable by end-users.\n",
        "\n",
        "__repr__(self): This method is intended to provide an unambiguous, developer-friendly string representation of an object. Ideally, the string returned by __repr__ should be such that it can be used to recreate the object (e.g., by passing it to eval()). If a more specific __str__ is not defined, Python will fall back to using the output of __repr__."
      ],
      "metadata": {
        "id": "iSVHAGuwxiMz"
      }
    },
    {
      "cell_type": "markdown",
      "source": [
        "### 20.What is the significance of the super() function in Python?\n",
        "\n",
        "The super() function in Python is used to call methods from a parent class. It's particularly important in the context of inheritance, especially with multiple inheritance. Its significance lies in:\n",
        "\n",
        "- Calling Parent Class Methods: It allows you to invoke a method from the superclass within a subclass method, often to extend or modify the parent's behavior without completely rewriting it.\n",
        "\n",
        "- Maintaining Cooperative Multiple Inheritance: It facilitates the creation of cooperative and well-behaved class hierarchies in multiple inheritance scenarios, where methods in different parent classes can collaborate and execute in a predictable way."
      ],
      "metadata": {
        "id": "up2mqXGdxsa4"
      }
    },
    {
      "cell_type": "markdown",
      "source": [
        "\n",
        "\n",
        "### 21. What is the significance of the __del__ method in Python?\n",
        "\n",
        "The __del__(self) method is a special method in Python that is called when an object is about to be garbage collected (i.e., when there are no more references to it). Its significance is that it allows you to perform cleanup operations specific to the object before it's deallocated from memory. Common uses might include releasing external resources like file handles, network connections, or database cursors."
      ],
      "metadata": {
        "id": "pSCLAgbUykzE"
      }
    },
    {
      "cell_type": "markdown",
      "source": [
        "###22. What is the difference between @staticmethod and @classmethod in Python?\n",
        "\n",
        "- @staticmethod:\n",
        "\n",
        " a. It's a function defined within a class but has no inherent connection to the class or its instances.\n",
        "\n",
        " b. It does not receive the instance (self) or the class (cls) as its first argument.\n",
        "\n",
        " c.It's essentially a regular function that's logically grouped within the class because it's related to the class's purpose.\n",
        "\n",
        "\n",
        "- @classmethod:\n",
        "\n",
        " a. It's a method bound to the class and not the instance of the class.\n",
        "\n",
        " b. It receives the class itself as the first argument, conventionally named cls.\n",
        "\n",
        " c. It can access and modify the class state (class variables).\n"
      ],
      "metadata": {
        "id": "ctUd5V2ozF1g"
      }
    },
    {
      "cell_type": "markdown",
      "source": [
        "### 23. How does polymorphism work in Python with inheritance?\n",
        "\n",
        "Polymorphism in Python, particularly with inheritance, works through method overriding. When a subclass inherits a method from a superclass, it can provide its own specific implementation of that method. When you call this method on an object, Python determines the object's actual type at runtime and executes the version of the method defined in that class .\n",
        "\n",
        "Here's how it plays out:\n",
        "\n",
        "Common Interface: A base class defines a method (the interface).\n",
        "\n",
        "Subclass Specialization: Subclasses inherit this method but can override it to provide behavior specific to their type.\n",
        "\n",
        "Runtime Dispatch: When you call the method on an object (regardless of its declared type), Python dynamically dispatches the call to the correct implementation based on the object's actual class."
      ],
      "metadata": {
        "id": "IaT5vz5e0CJh"
      }
    },
    {
      "cell_type": "markdown",
      "source": [
        "### 24. What is method chaining in Python OOP?\n",
        "\n",
        "Method chaining is a programming technique where multiple method calls are sequenced together on the same object in a single statement. This is typically achieved by having each method in the sequence return the object itself (self). This allows for a more fluent and readable way to perform a series of operations on an object."
      ],
      "metadata": {
        "id": "z2b6k30l0Y78"
      }
    },
    {
      "cell_type": "markdown",
      "source": [
        "### 25. What is the purpose of the __call__ method in Python?\n",
        "\n",
        "The __call__(self, *args, **kwargs) method is a special method that allows you to make instances of a class callable like regular functions. When you define __call__ in a class, you can then call an object of that class using parentheses, just as you would call a function.\n",
        "\n",
        "The *args and **kwargs in the __call__ method definition allow you to pass any number of positional and keyword arguments to the object when it's called.\n",
        "\n",
        "This feature is useful for creating objects that behave like functions, often for implementing things like:\n",
        "\n",
        "Function objects (functors): Objects that encapsulate a specific operation.\n",
        "\n",
        "Decorators: Although Python has dedicated decorator syntax, the underlying mechanism can involve callable objects.\n",
        "\n",
        "Stateful functions: Objects that maintain internal state that affects their behavior when called."
      ],
      "metadata": {
        "id": "wqa4Shle0lm5"
      }
    },
    {
      "cell_type": "markdown",
      "source": [
        "# **PRACTICAL QUESTIONS**"
      ],
      "metadata": {
        "id": "jWQYLRbK2KCr"
      }
    },
    {
      "cell_type": "markdown",
      "source": [
        "####1. Create a parent class Animal with a method speak() that prints a generic message. Create a child class Dog that overrides the speak() method to print \"Bark!\"."
      ],
      "metadata": {
        "id": "ySSjWhFt1lrI"
      }
    },
    {
      "cell_type": "code",
      "source": [
        "class Animal:\n",
        "    def speak(self):\n",
        "        print(\"Generic animal sound.\")\n",
        "\n",
        "class Dog(Animal):\n",
        "    def speak(self):\n",
        "        print(\"Bark!\")\n",
        "\n",
        "animal = Animal()\n",
        "animal.speak()\n",
        "\n",
        "dog = Dog()\n",
        "dog.speak()"
      ],
      "metadata": {
        "colab": {
          "base_uri": "https://localhost:8080/"
        },
        "id": "OVsCiBfE1fu6",
        "outputId": "b8439328-5a46-4d41-f7f6-17fd756ac88c"
      },
      "execution_count": null,
      "outputs": [
        {
          "output_type": "stream",
          "name": "stdout",
          "text": [
            "Generic animal sound.\n",
            "Bark!\n"
          ]
        }
      ]
    },
    {
      "cell_type": "markdown",
      "source": [
        "####2. Write a program to create an abstract class Shape with a method area(). Derive classes Circle and Rectangle from it and implement the area() method in both."
      ],
      "metadata": {
        "id": "BfbcC0dy2nQq"
      }
    },
    {
      "cell_type": "code",
      "source": [
        "import math\n",
        "\n",
        "class Shape:\n",
        "\n",
        "    def area(self):\n",
        "        raise NotImplementedError(\"Subclasses must implement the area() method\")\n",
        "\n",
        "class Circle(Shape):\n",
        "    def __init__(self, radius):\n",
        "        self.radius = radius\n",
        "\n",
        "    def area(self):\n",
        "        return math.pi * self.radius**2\n",
        "\n",
        "class Rectangle(Shape):\n",
        "    def __init__(self, length, width):\n",
        "        self.length = length\n",
        "        self.width = width\n",
        "\n",
        "    def area(self):\n",
        "        return self.length * self.width\n",
        "\n",
        "if __name__ == \"__main__\":\n",
        "    circle = Circle(5)\n",
        "    rectangle = Rectangle(4, 6)\n",
        "\n",
        "    print(f\"Area of the circle: {circle.area():.2f}\")\n",
        "    print(f\"Area of the rectangle: {rectangle.area()}\")"
      ],
      "metadata": {
        "id": "vtT-3TmS2slQ",
        "colab": {
          "base_uri": "https://localhost:8080/"
        },
        "outputId": "90feaea0-3321-40d2-d647-dfa9b975c039"
      },
      "execution_count": 1,
      "outputs": [
        {
          "output_type": "stream",
          "name": "stdout",
          "text": [
            "Area of the circle: 78.54\n",
            "Area of the rectangle: 24\n"
          ]
        }
      ]
    },
    {
      "cell_type": "markdown",
      "source": [
        "#### 03. Implement a multi-level inheritance scenario where a class Vehicle has an attribute type. Derive a class Car and further derive a class ElectricCar that adds a battery attribute."
      ],
      "metadata": {
        "id": "DwE2kVzJnUNq"
      }
    },
    {
      "cell_type": "code",
      "source": [
        "class Vehicle:\n",
        "    def __init__(self, type):\n",
        "        self.type = type\n",
        "\n",
        "    def display_type(self):\n",
        "        print(f\"Vehicle Type: {self.type}\")\n",
        "\n",
        "class Car(Vehicle):\n",
        "    def __init__(self, model, type=\"Car\"):\n",
        "        super().__init__(type)\n",
        "        self.model = model\n",
        "\n",
        "    def display_model(self):\n",
        "        print(f\"Car Model: {self.model}\")\n",
        "\n",
        "class ElectricCar(Car):\n",
        "    def __init__(self, model, battery_capacity):\n",
        "        super().__init__(model)\n",
        "        self.battery_capacity = battery_capacity\n",
        "\n",
        "    def display_battery(self):\n",
        "        print(f\"Battery Capacity: {self.battery_capacity} kWh\")\n",
        "\n",
        "# Creating instances of the classes\n",
        "vehicle = Vehicle(\"Generic Vehicle\")\n",
        "car = Car(\"Sedan\")\n",
        "electric_car = ElectricCar(\"Model S\", 100)\n",
        "\n",
        "# Accessing attributes and methods\n",
        "vehicle.display_type()\n",
        "print(\"-\" * 20)\n",
        "car.display_type()\n",
        "car.display_model()\n",
        "print(\"-\" * 20)\n",
        "electric_car.display_type()\n",
        "electric_car.display_model()\n",
        "electric_car.display_battery()"
      ],
      "metadata": {
        "colab": {
          "base_uri": "https://localhost:8080/"
        },
        "id": "kJz5UqB3nZxx",
        "outputId": "703e0c7b-1adf-432b-9bb4-91bec532bf06"
      },
      "execution_count": 2,
      "outputs": [
        {
          "output_type": "stream",
          "name": "stdout",
          "text": [
            "Vehicle Type: Generic Vehicle\n",
            "--------------------\n",
            "Vehicle Type: Car\n",
            "Car Model: Sedan\n",
            "--------------------\n",
            "Vehicle Type: Car\n",
            "Car Model: Model S\n",
            "Battery Capacity: 100 kWh\n"
          ]
        }
      ]
    },
    {
      "cell_type": "markdown",
      "source": [
        "####04. Demonstrate polymorphism by creating a base class Bird with a method fly(). Create two derived classes Sparrow and Penguin that override the fly() method.\n"
      ],
      "metadata": {
        "id": "f1rDDl8Vnyib"
      }
    },
    {
      "cell_type": "code",
      "source": [
        "class Bird:\n",
        "    def fly(self):\n",
        "        print(\"Generic bird flying...\")\n",
        "\n",
        "class Sparrow(Bird):\n",
        "    def fly(self):\n",
        "        print(\"Sparrow is fluttering its wings and flying fast!\")\n",
        "\n",
        "class Penguin(Bird):\n",
        "    def fly(self):\n",
        "        print(\"Penguins can't fly, but they can swim gracefully.\")\n",
        "\n",
        "# Function that demonstrates polymorphism\n",
        "def bird_action(bird):\n",
        "    bird.fly()\n",
        "\n",
        "# Creating instances of the classes\n",
        "generic_bird = Bird()\n",
        "sparrow = Sparrow()\n",
        "penguin = Penguin()\n",
        "\n",
        "# Demonstrating polymorphism\n",
        "bird_action(generic_bird)\n",
        "bird_action(sparrow)\n",
        "bird_action(penguin)\n"
      ],
      "metadata": {
        "colab": {
          "base_uri": "https://localhost:8080/"
        },
        "id": "REMkcB2dn9cE",
        "outputId": "249ba1cf-fee7-4b65-d053-311f24d63484"
      },
      "execution_count": 4,
      "outputs": [
        {
          "output_type": "stream",
          "name": "stdout",
          "text": [
            "Generic bird flying...\n",
            "Sparrow is fluttering its wings and flying fast!\n",
            "Penguins can't fly, but they can swim gracefully.\n"
          ]
        }
      ]
    },
    {
      "cell_type": "markdown",
      "source": [
        "####05. Write a program to demonstrate encapsulation by creating a class BankAccount with private attribute balance and methods to deposit, withdraw, and check balance."
      ],
      "metadata": {
        "id": "pEB2yRz6oULs"
      }
    },
    {
      "cell_type": "code",
      "source": [
        "class BankAccount:\n",
        "    def __init__(self, account_number, initial_balance=0):\n",
        "        self.__account_number = account_number  # Private attribute\n",
        "        self.__balance = initial_balance      # Private attribute\n",
        "\n",
        "    def deposit(self, amount):\n",
        "        if amount > 0:\n",
        "            self.__balance += amount\n",
        "            print(f\"Deposited ₹{amount}. New balance: ₹{self.__balance}\")\n",
        "        else:\n",
        "            print(\"Invalid deposit amount.\")\n",
        "\n",
        "    def withdraw(self, amount):\n",
        "        if amount > 0 and amount <= self.__balance:\n",
        "            self.__balance -= amount\n",
        "            print(f\"Withdraw ₹{amount}. New balance: ₹{self.__balance}\")\n",
        "        elif amount <= 0:\n",
        "            print(\"Invalid withdrawal amount.\")\n",
        "        else:\n",
        "            print(\"Insufficient balance.\")\n",
        "\n",
        "    def check_balance(self):\n",
        "        return self.__balance\n",
        "\n",
        "    def get_account_number(self):  # Providing a controlled way to access account number\n",
        "        return self.__account_number\n",
        "\n",
        "# Creating an instance of BankAccount\n",
        "account = BankAccount(\"1234567890\", 1000)\n",
        "\n",
        "# Accessing methods to interact with the account\n",
        "account.deposit(500)\n",
        "account.withdraw(200)\n",
        "print(f\"Current balance: ₹{account.check_balance()}\")\n",
        "\n",
        "# Trying to access private attributes directly (will result in an AttributeError)\n",
        "# print(account.__balance)\n",
        "# account.__balance = 500  # This will not modify the intended balance\n",
        "\n",
        "# Accessing the account number using the getter method\n",
        "print(f\"Account Number: {account.get_account_number()}\")"
      ],
      "metadata": {
        "colab": {
          "base_uri": "https://localhost:8080/"
        },
        "id": "PnrE-Nueofq_",
        "outputId": "7bf50e79-6621-468a-8129-6c5161238217"
      },
      "execution_count": 6,
      "outputs": [
        {
          "output_type": "stream",
          "name": "stdout",
          "text": [
            "Deposited ₹500. New balance: ₹1500\n",
            "Withdraw ₹200. New balance: ₹1300\n",
            "Current balance: ₹1300\n",
            "Account Number: 1234567890\n"
          ]
        }
      ]
    },
    {
      "cell_type": "markdown",
      "source": [
        "####06. Demonstrate runtime polymorphism using a method play() in a base class Instrument. Derive classes Guitar and Piano that implement their own version of play()."
      ],
      "metadata": {
        "id": "gETGOaPDovic"
      }
    },
    {
      "cell_type": "code",
      "source": [
        "class Instrument:\n",
        "    def play(self):\n",
        "        print(\"Generic instrument sound...\")\n",
        "\n",
        "class Guitar(Instrument):\n",
        "    def play(self):\n",
        "        print(\"Strumming the guitar strings...\")\n",
        "\n",
        "class Piano(Instrument):\n",
        "    def play(self):\n",
        "        print(\"Playing the piano keys...\")\n",
        "\n",
        "# Function that demonstrates runtime polymorphism\n",
        "def tune_instrument(instrument):\n",
        "    print(\"Tuning the instrument:\")\n",
        "    instrument.play()\n",
        "    print(\"-\" * 20)\n",
        "\n",
        "# Creating instances of the classes\n",
        "instrument = Instrument()\n",
        "guitar = Guitar()\n",
        "piano = Piano()\n",
        "\n",
        "# Demonstrating runtime polymorphism\n",
        "tune_instrument(instrument)\n",
        "tune_instrument(guitar)\n",
        "tune_instrument(piano)\n",
        "\n"
      ],
      "metadata": {
        "colab": {
          "base_uri": "https://localhost:8080/"
        },
        "id": "LYmtE9Hgo630",
        "outputId": "0b2ab960-b10a-44b7-be5d-51e7e10d4c14"
      },
      "execution_count": 7,
      "outputs": [
        {
          "output_type": "stream",
          "name": "stdout",
          "text": [
            "Tuning the instrument:\n",
            "Generic instrument sound...\n",
            "--------------------\n",
            "Tuning the instrument:\n",
            "Strumming the guitar strings...\n",
            "--------------------\n",
            "Tuning the instrument:\n",
            "Playing the piano keys...\n",
            "--------------------\n"
          ]
        }
      ]
    },
    {
      "cell_type": "markdown",
      "source": [
        "####07. Create a class MathOperations with a class method add_numbers() to add two numbers and a static method subtract_numbers() to subtract two numbers."
      ],
      "metadata": {
        "id": "8oPVN1kPpKdL"
      }
    },
    {
      "cell_type": "code",
      "source": [
        "class MathOperations:\n",
        "    @classmethod\n",
        "    def add_numbers(cls, num1, num2):\n",
        "        return num1 + num2\n",
        "\n",
        "    @staticmethod\n",
        "    def subtract_numbers(num1, num2):\n",
        "        return num1 - num2\n",
        "\n",
        "# Calling the class method\n",
        "sum_result = MathOperations.add_numbers(10, 5)\n",
        "print(f\"Sum: {sum_result}\")\n",
        "\n",
        "# Calling the static method\n",
        "difference_result = MathOperations.subtract_numbers(10, 5)\n",
        "print(f\"Difference: {difference_result}\")\n",
        "\n"
      ],
      "metadata": {
        "colab": {
          "base_uri": "https://localhost:8080/"
        },
        "id": "0pZmUXxepS5K",
        "outputId": "06b63f7c-a150-442c-a2f3-3859512c3f91"
      },
      "execution_count": 8,
      "outputs": [
        {
          "output_type": "stream",
          "name": "stdout",
          "text": [
            "Sum: 15\n",
            "Difference: 5\n"
          ]
        }
      ]
    },
    {
      "cell_type": "markdown",
      "source": [
        "####08. Implement a class Person with a class method to count the total number of persons created."
      ],
      "metadata": {
        "id": "DeA2kjXtpkWC"
      }
    },
    {
      "cell_type": "code",
      "source": [
        "class Person:\n",
        "    _person_count = 0\n",
        "\n",
        "    def __init__(self, name):\n",
        "        self.name = name\n",
        "        Person._person_count += 1\n",
        "\n",
        "    @classmethod\n",
        "    def get_person_count(cls):\n",
        "        return cls._person_count\n",
        "\n",
        "# Creating instances of the Person class\n",
        "person1 = Person(\"Alice\")\n",
        "person2 = Person(\"Bob\")\n",
        "person3 = Person(\"Charlie\")\n",
        "\n",
        "# Accessing the person count using the class method\n",
        "count = Person.get_person_count()\n",
        "print(f\"Total number of persons created: {count}\")"
      ],
      "metadata": {
        "colab": {
          "base_uri": "https://localhost:8080/"
        },
        "id": "OLTTg8LjprlQ",
        "outputId": "705a4e9b-e50e-48b5-dc18-03412e94138a"
      },
      "execution_count": 9,
      "outputs": [
        {
          "output_type": "stream",
          "name": "stdout",
          "text": [
            "Total number of persons created: 3\n"
          ]
        }
      ]
    },
    {
      "cell_type": "markdown",
      "source": [
        "####09. Write a class Fraction with attributes numerator and denominator. Override the str method to display the fraction as \"numerator/denominator\"."
      ],
      "metadata": {
        "id": "XomkkYhXp112"
      }
    },
    {
      "cell_type": "code",
      "source": [
        "class Fraction:\n",
        "    def __init__(self, numerator, denominator):\n",
        "        if denominator == 0:\n",
        "            raise ValueError(\"Denominator cannot be zero\")\n",
        "        self.numerator = numerator\n",
        "        self.denominator = denominator\n",
        "\n",
        "    def __str__(self):\n",
        "        \"\"\"Overrides the string representation of the Fraction object.\"\"\"\n",
        "        return f\"{self.numerator}/{self.denominator}\"\n",
        "\n",
        "# Creating Fraction objects\n",
        "fraction1 = Fraction(3, 4)\n",
        "fraction2 = Fraction(1, 2)\n",
        "\n",
        "# Printing the Fraction objects - the __str__ method will be automatically called\n",
        "print(fraction1)\n",
        "print(fraction2)\n",
        "\n",
        "# Using the str() function explicitly\n",
        "print(str(fraction1))\n",
        "print(str(fraction2))"
      ],
      "metadata": {
        "colab": {
          "base_uri": "https://localhost:8080/"
        },
        "id": "SL0UepJZp-Fv",
        "outputId": "e1acc1c2-d4a3-4aaa-9b43-a066b8169428"
      },
      "execution_count": 10,
      "outputs": [
        {
          "output_type": "stream",
          "name": "stdout",
          "text": [
            "3/4\n",
            "1/2\n",
            "3/4\n",
            "1/2\n"
          ]
        }
      ]
    },
    {
      "cell_type": "markdown",
      "source": [
        "####10. Demonstrate operator overloading by creating a class Vector and overriding the add method to add two vectors."
      ],
      "metadata": {
        "id": "5VpJuxLzqT79"
      }
    },
    {
      "cell_type": "code",
      "source": [
        "class Vector:\n",
        "    def __init__(self, x, y):\n",
        "        self.x = x\n",
        "        self.y = y\n",
        "\n",
        "    def __str__(self):\n",
        "        return f\"Vector({self.x}, {self.y})\"\n",
        "\n",
        "    def __add__(self, other):\n",
        "        \"\"\"Overrides the addition operator (+) for Vector objects.\"\"\"\n",
        "        if isinstance(other, Vector):\n",
        "            return Vector(self.x + other.x, self.y + other.y)\n",
        "        else:\n",
        "            raise TypeError(\"Can only add two Vector objects\")\n",
        "\n",
        "# Creating Vector objects\n",
        "v1 = Vector(2, 3)\n",
        "v2 = Vector(4, 5)\n",
        "\n",
        "# Adding the vectors using the overloaded + operator\n",
        "v3 = v1 + v2\n",
        "print(f\"Vector v1: {v1}\")\n",
        "print(f\"Vector v2: {v2}\")\n",
        "print(f\"Vector v1 + v2 = {v3}\")\n"
      ],
      "metadata": {
        "colab": {
          "base_uri": "https://localhost:8080/"
        },
        "id": "uITI0szmqXcr",
        "outputId": "07454a84-5835-4a31-c26d-a3c7263dcb96"
      },
      "execution_count": 11,
      "outputs": [
        {
          "output_type": "stream",
          "name": "stdout",
          "text": [
            "Vector v1: Vector(2, 3)\n",
            "Vector v2: Vector(4, 5)\n",
            "Vector v1 + v2 = Vector(6, 8)\n"
          ]
        }
      ]
    },
    {
      "cell_type": "markdown",
      "source": [
        "####11. Create a class Person with attributes name and age. Add a method greet() that prints \"Hello, my name is {name} and I am {age} years old.\""
      ],
      "metadata": {
        "id": "ydvSIZGOqhNq"
      }
    },
    {
      "cell_type": "code",
      "source": [
        "class Person:\n",
        "    def __init__(self, name, age):\n",
        "        self.name = name\n",
        "        self.age = age\n",
        "\n",
        "    def greet(self):\n",
        "        \"\"\"Prints a greeting message with the person's name and age.\"\"\"\n",
        "        print(f\"Hello, my name is {self.name} and I am {self.age} years old.\")\n",
        "\n",
        "# Creating instances of the Person class\n",
        "person1 = Person(\"Alice\", 30)\n",
        "person2 = Person(\"Bob\", 25)\n",
        "\n",
        "# Calling the greet() method for each person\n",
        "person1.greet()\n",
        "person2.greet()"
      ],
      "metadata": {
        "colab": {
          "base_uri": "https://localhost:8080/"
        },
        "id": "U6tih4fmqoa-",
        "outputId": "434bdeb5-cbbf-4c4c-cb2d-79816454e239"
      },
      "execution_count": 12,
      "outputs": [
        {
          "output_type": "stream",
          "name": "stdout",
          "text": [
            "Hello, my name is Alice and I am 30 years old.\n",
            "Hello, my name is Bob and I am 25 years old.\n"
          ]
        }
      ]
    },
    {
      "cell_type": "markdown",
      "source": [
        "####12. Implement a class Student with attributes name and grades. Create a method average_grade() to compute the average of the grades."
      ],
      "metadata": {
        "id": "VzN3XHnaqtXt"
      }
    },
    {
      "cell_type": "code",
      "source": [
        "class Student:\n",
        "    def __init__(self, name, grades=None):\n",
        "        self.name = name\n",
        "        self.grades = grades if grades is not None else []\n",
        "\n",
        "    def add_grade(self, grade):\n",
        "        if isinstance(grade, (int, float)):\n",
        "            self.grades.append(grade)\n",
        "        else:\n",
        "            print(\"Invalid grade. Please provide a numerical value.\")\n",
        "\n",
        "    def average_grade(self):\n",
        "        if self.grades:\n",
        "            return sum(self.grades) / len(self.grades)\n",
        "        else:\n",
        "            return 0.0\n",
        "\n",
        "# Creating Student objects\n",
        "student1 = Student(\"Alice\", [85, 90, 78, 92])\n",
        "student2 = Student(\"Bob\")  # Student with no initial grades\n",
        "\n",
        "# Adding grades for Bob\n",
        "student2.add_grade(76)\n",
        "student2.add_grade(88)\n",
        "student2.add_grade(95)\n",
        "\n",
        "# Computing and printing the average grades\n",
        "average_alice = student1.average_grade()\n",
        "print(f\"{student1.name}'s average grade: {average_alice}\")\n",
        "\n",
        "average_bob = student2.average_grade()\n",
        "print(f\"{student2.name}'s average grade: {average_bob}\")\n",
        "\n",
        "student3 = Student(\"Charlie\")\n",
        "average_charlie = student3.average_grade()\n",
        "print(f\"{student3.name}'s average grade: {average_charlie}\")"
      ],
      "metadata": {
        "colab": {
          "base_uri": "https://localhost:8080/"
        },
        "id": "SCcHzFQEq2kp",
        "outputId": "1343197b-5c66-40ba-f39d-da7fa6d1f37e"
      },
      "execution_count": 13,
      "outputs": [
        {
          "output_type": "stream",
          "name": "stdout",
          "text": [
            "Alice's average grade: 86.25\n",
            "Bob's average grade: 86.33333333333333\n",
            "Charlie's average grade: 0.0\n"
          ]
        }
      ]
    },
    {
      "cell_type": "markdown",
      "source": [
        "####13. Create a class Rectangle with methods set_dimensions() to set the dimensions and area() to calculate the area."
      ],
      "metadata": {
        "id": "VsUcoXFMrCYx"
      }
    },
    {
      "cell_type": "code",
      "source": [
        "class Rectangle:\n",
        "    def __init__(self, length=0, width=0):\n",
        "        self.length = length\n",
        "        self.width = width\n",
        "\n",
        "    def set_dimensions(self, length, width):\n",
        "        if isinstance(length, (int, float)) and isinstance(width, (int, float)):\n",
        "            if length >= 0 and width >= 0:\n",
        "                self.length = length\n",
        "                self.width = width\n",
        "            else:\n",
        "                print(\"Dimensions cannot be negative.\")\n",
        "        else:\n",
        "            print(\"Invalid input. Length and width must be numerical values.\")\n",
        "\n",
        "    def area(self):\n",
        "        return self.length * self.width\n",
        "\n",
        "# Creating Rectangle objects\n",
        "rectangle1 = Rectangle()\n",
        "rectangle2 = Rectangle(5, 10)\n",
        "\n",
        "# Setting dimensions using set_dimensions()\n",
        "rectangle1.set_dimensions(7, 3)\n",
        "\n",
        "# Calculating and printing the areas\n",
        "area1 = rectangle1.area()\n",
        "print(f\"Area of rectangle1: {area1}\")\n",
        "\n",
        "area2 = rectangle2.area()\n",
        "print(f\"Area of rectangle2: {area2}\")"
      ],
      "metadata": {
        "colab": {
          "base_uri": "https://localhost:8080/"
        },
        "id": "fJZgy3xfrKsw",
        "outputId": "83c2a598-a860-451a-95f2-c1ba1cfd13a3"
      },
      "execution_count": 14,
      "outputs": [
        {
          "output_type": "stream",
          "name": "stdout",
          "text": [
            "Area of rectangle1: 21\n",
            "Area of rectangle2: 50\n"
          ]
        }
      ]
    },
    {
      "cell_type": "markdown",
      "source": [
        "####14. Create a class Employee with a method calculate_salary() that computes the salary based on hours worked and hourly rate. Create a derived class Manager that adds a bonus to the salary."
      ],
      "metadata": {
        "id": "WgqPe2dMrfWc"
      }
    },
    {
      "cell_type": "code",
      "source": [
        "class Employee:\n",
        "    def __init__(self, name, hourly_rate):\n",
        "        self.name = name\n",
        "        self.hourly_rate = hourly_rate\n",
        "\n",
        "    def calculate_salary(self, hours_worked):\n",
        "        return hours_worked * self.hourly_rate\n",
        "\n",
        "class Manager(Employee):\n",
        "    def __init__(self, name, hourly_rate, bonus_percentage):\n",
        "        super().__init__(name, hourly_rate)\n",
        "        self.bonus_percentage = bonus_percentage\n",
        "\n",
        "    def calculate_salary(self, hours_worked):\n",
        "        base_salary = super().calculate_salary(hours_worked)\n",
        "        bonus_amount = base_salary * (self.bonus_percentage / 100)\n",
        "        return base_salary + bonus_amount\n",
        "\n",
        "# Creating instances of Employee and Manager\n",
        "employee1 = Employee(\"Alice\", 50)\n",
        "manager1 = Manager(\"Bob\", 60, 10)\n",
        "\n",
        "# Calculating salaries\n",
        "employee1_salary = employee1.calculate_salary(40)\n",
        "manager1_salary = manager1.calculate_salary(45)\n",
        "\n",
        "# Printing the salaries\n",
        "print(f\"{employee1.name}'s salary: ₹{employee1_salary}\")\n",
        "print(f\"{manager1.name}'s salary: ₹{manager1_salary}\")\n",
        "\n",
        "# Demonstrating the attributes of the Manager class\n",
        "print(f\"{manager1.name}'s hourly rate: ₹{manager1.hourly_rate}\")\n",
        "print(f\"{manager1.name}'s bonus percentage: {manager1.bonus_percentage}%\")"
      ],
      "metadata": {
        "colab": {
          "base_uri": "https://localhost:8080/"
        },
        "id": "hYoyABxjrjFE",
        "outputId": "287bf276-8b9e-4e03-b548-a507f0ff7412"
      },
      "execution_count": 15,
      "outputs": [
        {
          "output_type": "stream",
          "name": "stdout",
          "text": [
            "Alice's salary: ₹2000\n",
            "Bob's salary: ₹2970.0\n",
            "Bob's hourly rate: ₹60\n",
            "Bob's bonus percentage: 10%\n"
          ]
        }
      ]
    },
    {
      "cell_type": "markdown",
      "source": [
        "####15. Create a class Product with attributes name, price, and quantity. Implement a method total_price() that calculates the total price of the product."
      ],
      "metadata": {
        "id": "yJ6m36f9rvcg"
      }
    },
    {
      "cell_type": "code",
      "source": [
        "class Product:\n",
        "    def __init__(self, name, price, quantity):\n",
        "        self.name = name\n",
        "        self.price = price\n",
        "        self.quantity = quantity\n",
        "\n",
        "    def total_price(self):\n",
        "        return self.price * self.quantity\n",
        "\n",
        "product1 = Product(\"Laptop\", 1200.00, 5)\n",
        "product2 = Product(\"Mouse\", 25.50, 20)\n",
        "product3 = Product(\"Keyboard\", 75.00, 10)\n",
        "\n",
        "total_price1 = product1.total_price()\n",
        "print(f\"Total price for {product1.name}: ₹{total_price1:.2f}\")\n",
        "\n",
        "total_price2 = product2.total_price()\n",
        "print(f\"Total price for {product2.name}: ₹{total_price2:.2f}\")\n",
        "\n",
        "total_price3 = product3.total_price()\n",
        "print(f\"Total price for {product3.name}: ₹{total_price3:.2f}\")\n"
      ],
      "metadata": {
        "colab": {
          "base_uri": "https://localhost:8080/"
        },
        "id": "3k6KB0mer3JQ",
        "outputId": "e1e5cd69-2581-4bf6-eeee-de562e5a5d15"
      },
      "execution_count": 16,
      "outputs": [
        {
          "output_type": "stream",
          "name": "stdout",
          "text": [
            "Total price for Laptop: ₹6000.00\n",
            "Total price for Mouse: ₹510.00\n",
            "Total price for Keyboard: ₹750.00\n"
          ]
        }
      ]
    },
    {
      "cell_type": "markdown",
      "source": [
        "####16. Create a class Animal with an abstract method sound(). Create two derived classes Cow and Sheep that implement the sound() method."
      ],
      "metadata": {
        "id": "cimNTWkPsDUG"
      }
    },
    {
      "cell_type": "code",
      "source": [
        "from abc import ABC, abstractmethod\n",
        "\n",
        "class Animal(ABC):\n",
        "    @abstractmethod\n",
        "    def sound(self):\n",
        "        pass\n",
        "\n",
        "class Cow(Animal):\n",
        "    def sound(self):\n",
        "        return \"Moo!\"\n",
        "\n",
        "class Sheep(Animal):\n",
        "    def sound(self):\n",
        "        return \"Baa!\"\n",
        "\n",
        "def animal_sound(animal):\n",
        "    print(f\"{type(animal).__name__} says: {animal.sound()}\")\n",
        "\n",
        "animals = [Cow(), Sheep()]\n",
        "for animal in animals:\n",
        "    animal_sound(animal)\n"
      ],
      "metadata": {
        "colab": {
          "base_uri": "https://localhost:8080/"
        },
        "id": "6zdf5o3OsKIx",
        "outputId": "bb2b6b95-843f-48f4-aa38-93cf838bc74a"
      },
      "execution_count": 17,
      "outputs": [
        {
          "output_type": "stream",
          "name": "stdout",
          "text": [
            "Cow says: Moo!\n",
            "Sheep says: Baa!\n"
          ]
        }
      ]
    },
    {
      "cell_type": "markdown",
      "source": [
        "####17. Create a class Book with attributes title, author, and year_published. Add a method get_book_info() that returns a formatted string with the book's details."
      ],
      "metadata": {
        "id": "P4R6ZJfcsuW9"
      }
    },
    {
      "cell_type": "code",
      "source": [
        "class Book:\n",
        "    def __init__(self, title, author, year_published):\n",
        "        self.title = title\n",
        "        self.author = author\n",
        "        self.year_published = year_published\n",
        "\n",
        "    def get_book_info(self):\n",
        "        return f\"Title: {self.title}, Author: {self.author}, Year Published: {self.year_published}\"\n",
        "\n",
        "# Example Usage\n",
        "book1 = Book(\"The Lord of the Rings\", \"J.R.R. Tolkien\", 1954)\n",
        "book2 = Book(\"Pride and Prejudice\", \"Jane Austen\", 1813)\n",
        "\n",
        "print(book1.get_book_info())\n",
        "print(book2.get_book_info())\n"
      ],
      "metadata": {
        "colab": {
          "base_uri": "https://localhost:8080/"
        },
        "id": "waokf5F-s0Mk",
        "outputId": "6a2e3fe9-12b3-43a6-e562-480baeb90189"
      },
      "execution_count": 18,
      "outputs": [
        {
          "output_type": "stream",
          "name": "stdout",
          "text": [
            "Title: The Lord of the Rings, Author: J.R.R. Tolkien, Year Published: 1954\n",
            "Title: Pride and Prejudice, Author: Jane Austen, Year Published: 1813\n"
          ]
        }
      ]
    },
    {
      "cell_type": "markdown",
      "source": [
        "####18. Create a class House with attributes address and price. Create a derived class Mansion that adds an attribute number_of_rooms."
      ],
      "metadata": {
        "id": "cYlnfj6Es-Q7"
      }
    },
    {
      "cell_type": "code",
      "source": [
        "class House:\n",
        "    def __init__(self, address, price):\n",
        "        self.address = address\n",
        "        self.price = price\n",
        "\n",
        "    def __str__(self):\n",
        "        return f\"Address: {self.address}, Price: ${self.price}\"\n",
        "\n",
        "\n",
        "class Mansion(House):\n",
        "    def __init__(self, address, price, number_of_rooms):\n",
        "        super().__init__(address, price)\n",
        "        self.number_of_rooms = number_of_rooms\n",
        "\n",
        "    def __str__(self):\n",
        "        return f\"{super().__str__()}, Number of Rooms: {self.number_of_rooms}\"\n",
        "\n",
        "# Example Usage\n",
        "house1 = House(\"123 Main St\", 250000)\n",
        "mansion1 = Mansion(\"456 Luxury Ave\", 1000000, 15)\n",
        "\n",
        "print(house1)\n",
        "print(mansion1)\n"
      ],
      "metadata": {
        "colab": {
          "base_uri": "https://localhost:8080/"
        },
        "id": "DynvaOi4tFJO",
        "outputId": "cb6f0dea-96fe-4eec-a36c-66e6bcdffa14"
      },
      "execution_count": 25,
      "outputs": [
        {
          "output_type": "stream",
          "name": "stdout",
          "text": [
            "Address: 123 Main St, Price: $250000\n",
            "Address: 456 Luxury Ave, Price: $1000000, Number of Rooms: 15\n"
          ]
        }
      ]
    }
  ]
}